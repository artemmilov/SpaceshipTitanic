{
 "cells": [
  {
   "cell_type": "code",
   "execution_count": 11,
   "id": "6bcce5ed",
   "metadata": {},
   "outputs": [
    {
     "name": "stdout",
     "output_type": "stream",
     "text": [
      "1 0.04\n",
      "2 0.08\n",
      "3 0.12\n",
      "4 0.17\n",
      "5 0.22\n",
      "6 0.27\n",
      "7 0.32\n",
      "8 0.37\n",
      "9 0.42\n",
      "10 0.48\n",
      "11 0.54\n",
      "12 0.6\n",
      "13 0.67\n",
      "14 0.73\n",
      "15 0.8\n",
      "16 0.87\n",
      "17 0.95\n",
      "18 1.03\n",
      "19 1.11\n",
      "20 1.19\n"
     ]
    }
   ],
   "source": [
    "total = 0\n",
    "investition = 1\n",
    "years = list(range(1, 20 + 1, 1))\n",
    "addition = 0.04\n",
    "\n",
    "for year in years:\n",
    "    total *= (1 + addition)\n",
    "    total += 12 * investition\n",
    "    print(year, round(total * 0.04 / 12, 2))"
   ]
  },
  {
   "cell_type": "code",
   "execution_count": 22,
   "id": "97cc4cd3",
   "metadata": {},
   "outputs": [
    {
     "name": "stdout",
     "output_type": "stream",
     "text": [
      "1 0.33 1.33\n",
      "1 0.48 1.8 3.28\n"
     ]
    }
   ],
   "source": [
    "def total_mortgage(_house_price, _mortgage, _term):\n",
    "    _r = _mortgage / 12\n",
    "    _n = _term * 12\n",
    "    return _house_price * _r * (1 + _r) ** _n / ((1 + _r) ** _n - 1) * _n\n",
    "\n",
    "house_price = 1\n",
    "house_price_addition = 0.04\n",
    "mortgage= 0.06\n",
    "rent = 0.015 * house_price\n",
    "term = 10\n",
    "\n",
    "x, y = house_price, round(total_mortgage(house_price, mortgage, term) - house_price, 2)\n",
    "print(x, y, x + y)\n",
    "\n",
    "x, y, z = house_price, \\\n",
    "    round(house_price * (1 + house_price_addition) ** term - house_price, 2), round(rent * term * 12, 2)\n",
    "print(x, y, z, round(x + y + z, 2))"
   ]
  },
  {
   "cell_type": "code",
   "execution_count": null,
   "id": "f876725c",
   "metadata": {},
   "outputs": [],
   "source": []
  }
 ],
 "metadata": {
  "kernelspec": {
   "display_name": "Python 3 (ipykernel)",
   "language": "python",
   "name": "python3"
  },
  "language_info": {
   "codemirror_mode": {
    "name": "ipython",
    "version": 3
   },
   "file_extension": ".py",
   "mimetype": "text/x-python",
   "name": "python",
   "nbconvert_exporter": "python",
   "pygments_lexer": "ipython3",
   "version": "3.8.10"
  }
 },
 "nbformat": 4,
 "nbformat_minor": 5
}
